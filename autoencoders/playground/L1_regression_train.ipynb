{
 "cells": [
  {
   "cell_type": "code",
   "execution_count": 39,
   "id": "3e3b098c",
   "metadata": {},
   "outputs": [],
   "source": [
    "import os\n",
    "import argparse\n",
    "import h5py\n",
    "import numpy as np\n",
    "import tensorflow as tf\n",
    "from tensorflow.keras.callbacks import (\n",
    "    EarlyStopping,\n",
    "    ReduceLROnPlateau\n",
    "    )\n",
    "import tensorflow_model_optimization as tfmot\n",
    "from tensorflow_model_optimization.python.core.sparsity.keras import pruning_wrapper\n",
    "from tensorflow.keras.callbacks import TensorBoard\n",
    "import tensorflow as tf\n",
    "from tensorflow.keras.optimizers import Adam\n",
    "from tensorflow.keras.models import Model\n",
    "from tensorflow.keras.layers import (\n",
    "    Input,\n",
    "    Dense,\n",
    "    Dropout,\n",
    "    BatchNormalization,\n",
    "    Flatten,\n",
    "    Activation,\n",
    "    )\n",
    "import pickle\n",
    "import setGPU\n",
    "import json\n",
    "\n",
    "import matplotlib.pyplot as plt\n",
    "\n",
    "from tensorflow import keras\n",
    "import sys\n",
    "import keras_dgl\n",
    "from keras_dgl.layers import GraphAttentionCNN,MultiGraphCNN,MultiGraphAttentionCNN\n",
    "import sys\n",
    "sys.path.append(os.path.abspath(os.path.join('/eos/home-n/nchernya/MLHEP/AnomalyDetection/knowledge-distillation/L1regression/')))\n",
    "import utils.data_processing as data_proc\n",
    "from importlib import reload \n",
    "reload(data_proc)\n",
    "\n",
    "import tensorflow.keras.backend as K\n",
    "from tensorflow.keras.regularizers import l2\n",
    "from tensorflow.keras.layers import Dense, Activation, Dropout,Lambda\n",
    "from tensorflow.keras.models import Model, Sequential\n",
    "import nn.models as nn_models\n",
    "reload(nn_models)\n",
    "\n",
    "import nn.losses as nn_losses\n",
    "reload(nn_losses)\n",
    "\n",
    "import keras_tuner\n",
    "import tensorflow.keras.backend as K\n"
   ]
  },
  {
   "cell_type": "code",
   "execution_count": 3,
   "id": "2760a17e",
   "metadata": {},
   "outputs": [],
   "source": [
    "data_file = '/eos/user/n/nchernya/MLHEP/AnomalyDetection/knowledge-distillation/L1regression/output/l1_regression_train_selective.h5'\n",
    "with h5py.File(data_file,'r') as open_file :\n",
    "    reco_data = np.array(open_file['smeared_data'])\n",
    "    reco_met = np.array(open_file['smeared_met'])\n",
    "    reco_ht = np.array(open_file['smeared_ht'])\n",
    "    true_data = np.array(open_file['true_data'])\n",
    "    true_met = np.array(open_file['true_met'])\n",
    "    true_ht = np.array(open_file['true_ht'])\n",
    "    ids = np.array(open_file['ids'])\n",
    "    ids_names = np.array(open_file['ids_names'])"
   ]
  },
  {
   "cell_type": "code",
   "execution_count": 4,
   "id": "22bd1a44",
   "metadata": {},
   "outputs": [],
   "source": [
    "graph_data = data_proc.GraphCreator(reco_data,reco_met,reco_ht, true_met,true_ht,ids,log_features=['pt'])\n"
   ]
  },
  {
   "cell_type": "code",
   "execution_count": 5,
   "id": "5dc55564",
   "metadata": {},
   "outputs": [],
   "source": [
    "num_filters = 1\n",
    "graph_conv_filters = graph_data.adjacency\n",
    "graph_conv_filters = K.constant(graph_conv_filters)\n"
   ]
  },
  {
   "cell_type": "code",
   "execution_count": 6,
   "id": "c426286b",
   "metadata": {},
   "outputs": [
    {
     "name": "stdout",
     "output_type": "stream",
     "text": [
      "INFO:tensorflow:Reloading Oracle from existing project /eos/user/n/nchernya/MLHEP/AnomalyDetection/knowledge-distillation/L1regression/output2/hyperband_tuner/oracle.json\n",
      "INFO:tensorflow:Reloading Tuner from /eos/user/n/nchernya/MLHEP/AnomalyDetection/knowledge-distillation/L1regression/output2/hyperband_tuner/tuner0.json\n"
     ]
    }
   ],
   "source": [
    "batch_size = 1024\n",
    "loss_function = nn_losses.get_loss_func('huber_1.0')\n",
    "metric_thresholds = [0,50,100]\n",
    "metrics = [nn_losses.MseThesholdMetric(threshold=t) for t in metric_thresholds]\n",
    "num_filters=1\n",
    "graph_conv_filters = graph_data.adjacency\n",
    "graph_conv_filters = K.constant(graph_conv_filters)\n",
    "hp = keras_tuner.HyperParameters()\n",
    "hypermodel = nn_models.GraphAttentionHyperModel(features_input_shape=(graph_data.features.shape[1],graph_data.features.shape[2]), \n",
    "                                        adjancency_input_shape=(graph_data.adjacency.shape[1],graph_data.adjacency.shape[2]),\n",
    "                                        filters_input_shape=(graph_conv_filters.shape[1],graph_conv_filters.shape[2]), \n",
    "                                        num_filters=num_filters, \n",
    "                                        loss_function=loss_function,\n",
    "                                        metrics=metrics)\n",
    "\n",
    "workdir = \"/eos/user/n/nchernya/MLHEP/AnomalyDetection/knowledge-distillation/L1regression/output2/\"\n",
    "tuner = keras_tuner.Hyperband(hypermodel = hypermodel,\n",
    "                     objective = keras_tuner.Objective(\"val_loss\", direction=\"min\"),\n",
    "                    executions_per_trial=1,\n",
    "                    max_epochs=50,\n",
    "                    overwrite=False,\n",
    "                     directory=workdir,\n",
    "                     project_name='hyperband_tuner')\n",
    "\n",
    "\n"
   ]
  },
  {
   "cell_type": "code",
   "execution_count": 7,
   "id": "83b7c337",
   "metadata": {},
   "outputs": [],
   "source": [
    "#best_hps=tuner.get_best_hyperparameters(num_trials=1)[0]\n",
    "model = tuner.get_best_models(num_models=1)[0]\n"
   ]
  },
  {
   "cell_type": "code",
   "execution_count": 71,
   "id": "9d983f1e",
   "metadata": {
    "scrolled": true
   },
   "outputs": [
    {
     "name": "stdout",
     "output_type": "stream",
     "text": [
      "WARNING:tensorflow:Detecting that an object or model or tf.train.Checkpoint is being deleted with unrestored values. See the following logs for the specific values in question. To silence these warnings, use `status.expect_partial()`. See https://www.tensorflow.org/api_docs/python/tf/train/Checkpoint#restorefor details about the status object returned by the restore function.\n",
      "WARNING:tensorflow:Value in checkpoint could not be found in the restored object: (root).optimizer.iter\n",
      "WARNING:tensorflow:Value in checkpoint could not be found in the restored object: (root).optimizer.beta_1\n",
      "WARNING:tensorflow:Value in checkpoint could not be found in the restored object: (root).optimizer.beta_2\n",
      "WARNING:tensorflow:Value in checkpoint could not be found in the restored object: (root).optimizer.decay\n",
      "WARNING:tensorflow:Value in checkpoint could not be found in the restored object: (root).optimizer.learning_rate\n",
      "Epoch 1/10\n",
      "45/45 [==============================] - 5s 53ms/step - loss: 52.3077 - MseThesholdMetric_0: 184.0643 - MseThesholdMetric_50: 229.1595 - MseThesholdMetric_100: 341.9376 - val_loss: 51.5189 - val_MseThesholdMetric_0: 641.3297 - val_MseThesholdMetric_50: 821.5171 - val_MseThesholdMetric_100: 1225.8251 - lr: 0.0100\n",
      "Epoch 2/10\n",
      "45/45 [==============================] - 2s 38ms/step - loss: 51.5845 - MseThesholdMetric_0: 54.8939 - MseThesholdMetric_50: 68.3761 - MseThesholdMetric_100: 100.9546 - val_loss: 51.1954 - val_MseThesholdMetric_0: 76.0850 - val_MseThesholdMetric_50: 93.5216 - val_MseThesholdMetric_100: 134.4711 - lr: 0.0100\n",
      "Epoch 3/10\n",
      "45/45 [==============================] - 2s 36ms/step - loss: 51.4300 - MseThesholdMetric_0: 20.2506 - MseThesholdMetric_50: 22.9262 - MseThesholdMetric_100: 30.8389 - val_loss: 51.1255 - val_MseThesholdMetric_0: 21.7966 - val_MseThesholdMetric_50: 24.9857 - val_MseThesholdMetric_100: 33.7775 - lr: 0.0100\n",
      "Epoch 4/10\n",
      "45/45 [==============================] - 2s 38ms/step - loss: 51.3914 - MseThesholdMetric_0: 11.5325 - MseThesholdMetric_50: 11.7188 - MseThesholdMetric_100: 14.4281 - val_loss: 51.1060 - val_MseThesholdMetric_0: 12.6706 - val_MseThesholdMetric_50: 13.4615 - val_MseThesholdMetric_100: 16.9177 - lr: 0.0100\n",
      "Epoch 5/10\n",
      "45/45 [==============================] - 2s 43ms/step - loss: 51.3796 - MseThesholdMetric_0: 10.8310 - MseThesholdMetric_50: 10.6608 - MseThesholdMetric_100: 12.6093 - val_loss: 51.1009 - val_MseThesholdMetric_0: 14.5771 - val_MseThesholdMetric_50: 15.0719 - val_MseThesholdMetric_100: 18.1266 - lr: 0.0100\n",
      "Epoch 6/10\n",
      "45/45 [==============================] - 2s 39ms/step - loss: 51.3750 - MseThesholdMetric_0: 9.9062 - MseThesholdMetric_50: 9.3963 - MseThesholdMetric_100: 10.6599 - val_loss: 51.0971 - val_MseThesholdMetric_0: 7.5220 - val_MseThesholdMetric_50: 7.6219 - val_MseThesholdMetric_100: 9.1623 - lr: 0.0100\n",
      "Epoch 7/10\n",
      "45/45 [==============================] - 2s 41ms/step - loss: 51.3725 - MseThesholdMetric_0: 8.9770 - MseThesholdMetric_50: 8.3354 - MseThesholdMetric_100: 9.2632 - val_loss: 51.0948 - val_MseThesholdMetric_0: 7.6330 - val_MseThesholdMetric_50: 7.1195 - val_MseThesholdMetric_100: 7.7952 - lr: 0.0100\n",
      "Epoch 8/10\n",
      "45/45 [==============================] - 2s 38ms/step - loss: 51.3718 - MseThesholdMetric_0: 9.1091 - MseThesholdMetric_50: 8.4513 - MseThesholdMetric_100: 9.3407 - val_loss: 51.0943 - val_MseThesholdMetric_0: 9.2436 - val_MseThesholdMetric_50: 8.9320 - val_MseThesholdMetric_100: 9.8638 - lr: 0.0100\n",
      "Epoch 9/10\n",
      "45/45 [==============================] - 2s 37ms/step - loss: 51.3719 - MseThesholdMetric_0: 9.9889 - MseThesholdMetric_50: 9.4603 - MseThesholdMetric_100: 10.4933 - val_loss: 51.0937 - val_MseThesholdMetric_0: 9.6047 - val_MseThesholdMetric_50: 9.5160 - val_MseThesholdMetric_100: 10.6890 - lr: 0.0100\n",
      "Epoch 10/10\n",
      "45/45 [==============================] - 2s 42ms/step - loss: 51.3705 - MseThesholdMetric_0: 8.9094 - MseThesholdMetric_50: 8.0705 - MseThesholdMetric_100: 8.4893 - val_loss: 51.0934 - val_MseThesholdMetric_0: 5.9725 - val_MseThesholdMetric_50: 5.5231 - val_MseThesholdMetric_100: 5.9062 - lr: 0.0100\n"
     ]
    }
   ],
   "source": [
    "callbacks=[\n",
    "        EarlyStopping(monitor='val_loss', patience=5, verbose=1),\n",
    "        ReduceLROnPlateau(monitor='val_loss', factor=0.5, patience=2, verbose=1, min_lr=1e-9),\n",
    "]\n",
    "model = tuner.hypermodel.build(best_hps)\n",
    "history = model.fit([graph_data.features, graph_data.adjacency,graph_conv_filters],graph_data.labels,\n",
    "             validation_split=0.2,\n",
    "             epochs=10,\n",
    "             batch_size=1024,\n",
    "             shuffle=True,\n",
    "             callbacks=callbacks,\n",
    "             use_multiprocessing=True,\n",
    "             workers=3)"
   ]
  },
  {
   "cell_type": "code",
   "execution_count": 72,
   "id": "a249468c",
   "metadata": {},
   "outputs": [
    {
     "data": {
      "image/png": "[encoded data removed]",
      "text/plain": [
       "<Figure size 432x288 with 1 Axes>"
      ]
     },
     "metadata": {
      "needs_background": "light"
     },
     "output_type": "display_data"
    }
   ],
   "source": [
    "plt.plot(history.history['val_loss'])\n",
    "plt.ylabel('loss')\n",
    "plt.xlabel('epoch')\n",
    "plt.legend(['train', 'val'], loc='upper left')\n",
    "plt.show()"
   ]
  },
  {
   "cell_type": "code",
   "execution_count": 8,
   "id": "b0241388",
   "metadata": {},
   "outputs": [],
   "source": [
    "dnn_correction = model.predict([graph_data.features, graph_data.adjacency,graph_conv_filters],batch_size=1024)"
   ]
  },
  {
   "cell_type": "code",
   "execution_count": 9,
   "id": "6f51f3f2",
   "metadata": {},
   "outputs": [
    {
     "name": "stdout",
     "output_type": "stream",
     "text": [
      "57/57 [==============================] - 0s 975us/step - loss: 7.9942e-04 - MseThesholdMetric_0: nan - MseThesholdMetric_50: nan - MseThesholdMetric_100: nan\n"
     ]
    }
   ],
   "source": [
    "loss = model.evaluate([graph_data.features, graph_data.adjacency,graph_conv_filters],batch_size=1024)"
   ]
  },
  {
   "cell_type": "code",
   "execution_count": 40,
   "id": "beebadfa",
   "metadata": {},
   "outputs": [],
   "source": [
    "reload(data_proc)\n",
    "evaluator = data_proc.MetResolutionEvaluator(graph_data.reco_met,graph_data.true_met,graph_data.process_ids,dnn_correction,mask=None)\n"
   ]
  },
  {
   "cell_type": "code",
   "execution_count": 45,
   "id": "bf92ab30",
   "metadata": {},
   "outputs": [
    {
     "data": {
      "text/plain": [
       "[]"
      ]
     },
     "execution_count": 45,
     "metadata": {},
     "output_type": "execute_result"
    },
    {
     "data": {
      "image/png": "[encoded data removed]",
      "text/plain": [
       "<Figure size 432x288 with 1 Axes>"
      ]
     },
     "metadata": {
      "needs_background": "light"
     },
     "output_type": "display_data"
    }
   ],
   "source": [
    "_, bins,_ = plt.hist(graph_data.labels[:,0],bins=np.linspace(0,8,100),histtype='step',linewidth=2,label='Baseline')\n",
    "_, bins,_ = plt.hist(dnn_correction,bins=np.linspace(-10,8,100),histtype='step',linewidth=2,label='Corrected')\n",
    "plt.semilogy()\n"
   ]
  },
  {
   "cell_type": "code",
   "execution_count": 46,
   "id": "5fd488d4",
   "metadata": {},
   "outputs": [
    {
     "data": {
      "text/plain": [
       "<matplotlib.legend.Legend at 0x7fb80761f640>"
      ]
     },
     "execution_count": 46,
     "metadata": {},
     "output_type": "execute_result"
    },
    {
     "data": {
      "image/png": "[encoded data removed]",
      "text/plain": [
       "<Figure size 432x288 with 1 Axes>"
      ]
     },
     "metadata": {
      "needs_background": "light"
     },
     "output_type": "display_data"
    }
   ],
   "source": [
    "_, bins,_ = plt.hist(evaluator.met_ratio,bins=np.linspace(0,8,100),histtype='step',linewidth=2,label='Baseline')\n",
    "_ = plt.hist(evaluator.met_ratio_corr,bins=bins,histtype='step',linewidth=2,label='Corrected')\n",
    "#plt.semilogy()\n",
    "plt.xlabel('MET_true/MET_reco')\n",
    "plt.ylabel('A.U.')\n",
    "plt.legend()\n"
   ]
  },
  {
   "cell_type": "code",
   "execution_count": null,
   "id": "719177ce",
   "metadata": {},
   "outputs": [],
   "source": []
  },
  {
   "cell_type": "code",
   "execution_count": 16,
   "id": "06cd1c96",
   "metadata": {},
   "outputs": [],
   "source": [
    "def compute_resolution(x, y, nbin,log_bins_x=True):\n",
    "    \"\"\"\n",
    "    Returns the center of bins array, the mean of y for each bin and stand.dev.\n",
    "    https://vmascagn.web.cern.ch/LABO_2020/profile_plot.html\n",
    "    \"\"\"\n",
    "    # use of the 2d hist by numpy to avoid plotting\n",
    "    if log_bins_x :\n",
    "        nbin_x = np.logspace(0,3,nbin)\n",
    "        nbin_y = np.linspace(-1,1,nbin)\n",
    "        bins = [nbin_x,nbin_y]\n",
    "    else :\n",
    "        bins=nbin\n",
    "    h, xe, ye = np.histogram2d(x,y,bins)\n",
    "\n",
    "    # bin width\n",
    "    xbinw = xe[1]-xe[0]\n",
    "\n",
    "    x_array      = []\n",
    "    x_slice_mean = []\n",
    "    x_slice_mpv = []\n",
    "    x_slice_res  = []\n",
    "    for i in range(xe.size-1):\n",
    "        yvals = y[ (x>xe[i]) & (x<=xe[i+1]) ]\n",
    "        if yvals.size>0: # do not fill the quanties for empty slices\n",
    "            x_array.append(xe[i]+ xbinw/2)\n",
    "            x_slice_mean.append( yvals.mean())\n",
    "            ye_slice,xe_slice = np.histogram(yvals, bins=np.linspace(0,3,100))\n",
    "            xe_slice_centers = (xe_slice[:-1]+xe_slice[1:])/2\n",
    "            x_slice_mpv.append(xe_slice[int(np.argmax(ye_slice))])\n",
    "            x_slice_res.append( (np.quantile(yvals,0.84)-np.quantile(yvals,0.16))/2.)\n",
    "    x_array = np.array(x_array)\n",
    "    x_slice_mean = np.array(x_slice_mean)\n",
    "    x_slice_res = np.array(x_slice_res)\n",
    "    x_slice_mpv = np.array(x_slice_mpv)\n",
    "\n",
    "    return x_array, x_slice_mean,x_slice_mpv, x_slice_res\n"
   ]
  },
  {
   "cell_type": "code",
   "execution_count": 47,
   "id": "6099f44f",
   "metadata": {},
   "outputs": [
    {
     "data": {
      "text/plain": [
       "<matplotlib.legend.Legend at 0x7fb807804790>"
      ]
     },
     "execution_count": 47,
     "metadata": {},
     "output_type": "execute_result"
    },
    {
     "data": {
      "image/png": "[encoded data removed]",
      "text/plain": [
       "<Figure size 432x288 with 1 Axes>"
      ]
     },
     "metadata": {
      "needs_background": "light"
     },
     "output_type": "display_data"
    }
   ],
   "source": [
    "p_x, p_mean, p_mpv, p_res = compute_resolution(evaluator.true_met,evaluator.met_ratio,nbin=20)\n",
    "plt.scatter(p_x, p_res,marker='o',color='blue',label='Baseline')\n",
    "\n",
    "p_x, p_mean,p_mpv, p_res = compute_resolution(evaluator.true_met,evaluator.met_ratio_corr,nbin=20)\n",
    "plt.scatter(p_x, p_res,marker='o',color='orange',label='Corrected')\n",
    "#plt.xlabel(x_title)\n",
    "#plt.ylabel(y_title)\n",
    "#plt.ylim(0,1)\n",
    "plt.legend()\n"
   ]
  },
  {
   "cell_type": "code",
   "execution_count": 27,
   "id": "8e38ce9c",
   "metadata": {},
   "outputs": [
    {
     "name": "stdout",
     "output_type": "stream",
     "text": [
      "Welcome to JupyROOT 6.26/04\n"
     ]
    }
   ],
   "source": [
    "import ROOT\n",
    "\n",
    "def makeEffHist(name, refArr, corrArr, corrThr, xmax,nbins=20):\n",
    "    not_matched = []\n",
    "    eff_bins = np.linspace(0,xmax,nbins+1)\n",
    "    ret = ROOT.TEfficiency(name+\"_eff\",\"\",nbins,eff_bins)\n",
    "    for i in range(0,len(refArr)):\n",
    "        ret.Fill(corrArr[i]>corrThr,refArr[i])\n",
    "    ret.SetStatisticOption(ret.kFCP)        \n",
    "    return ret,eff_bins \n",
    "\n",
    "def calculateEff(name, refArr, corrArr, corrThr, xmax,nbins=20):\n",
    "    ret,eff_bins = makeEffHist(name, refArr, corrArr, corrThr, xmax,nbins)\n",
    "    eff_bins_centers = (eff_bins[1:]+eff_bins[:-1])/2.\n",
    "    eff_bins_err = eff_bins_centers-eff_bins[:-1]\n",
    "    yvals, yvals_up, yvals_down = [],[],[]\n",
    "    for i in range(len(eff_bins_centers)):\n",
    "        yvals.append(ret.GetEfficiency(i+1))\n",
    "        yvals_up.append(ret.GetEfficiencyErrorUp(i+1))\n",
    "        yvals_down.append(ret.GetEfficiencyErrorLow(i+1))\n",
    "    return eff_bins_centers,eff_bins_err,np.array(yvals),np.vstack( (np.array(yvals_down),np.array(yvals_up)))\n",
    "        \n",
    "    \n"
   ]
  },
  {
   "cell_type": "code",
   "execution_count": 49,
   "id": "fe09615c",
   "metadata": {},
   "outputs": [
    {
     "name": "stderr",
     "output_type": "stream",
     "text": [
      "/tmp/nchernya/ipykernel_17378/4197582734.py:8: DeprecationWarning: In future, it will be an error for 'np.bool_' scalars to be interpreted as an index\n",
      "  ret.Fill(corrArr[i]>corrThr,refArr[i])\n"
     ]
    },
    {
     "data": {
      "text/plain": [
       "<matplotlib.legend.Legend at 0x7fb8074359a0>"
      ]
     },
     "execution_count": 49,
     "metadata": {},
     "output_type": "execute_result"
    },
    {
     "data": {
      "image/png": "[encoded data removed]",
      "text/plain": [
       "<Figure size 432x288 with 1 Axes>"
      ]
     },
     "metadata": {
      "needs_background": "light"
     },
     "output_type": "display_data"
    }
   ],
   "source": [
    "eff_corr_bins,eff_corr_bin_err,eff_corr,eff_corr_err = calculateEff('corr',evaluator.true_met,evaluator.corr_met,40,420,nbins=40)\n",
    "eff_bins,eff_bin_err,eff,eff_err = calculateEff('reco',evaluator.true_met,evaluator.reco_met,40,420,nbins=40)\n",
    "\n",
    "\n",
    "_ = plt.errorbar(eff_corr_bins,eff_corr,yerr=eff_corr_err,xerr=eff_corr_bin_err, color='orange',marker='s',linestyle='',label='Corrected')\n",
    "_ = plt.errorbar(eff_bins,eff,yerr=eff_err,xerr=eff_bin_err, color='b',marker='o',linestyle='',label='Baseline')\n",
    "plt.legend()\n"
   ]
  },
  {
   "cell_type": "code",
   "execution_count": 50,
   "id": "3122e15a",
   "metadata": {},
   "outputs": [],
   "source": [
    "def makeRatePlot(refArr, corrThr):\n",
    "    #indecies = np.where(refArr>thresh]\n",
    "    eff = [np.sum(refArr>thresh)/len(refArr) for thresh in corrThr]\n",
    "    return eff"
   ]
  },
  {
   "cell_type": "code",
   "execution_count": 52,
   "id": "d7248145",
   "metadata": {},
   "outputs": [
    {
     "data": {
      "text/plain": [
       "<matplotlib.legend.Legend at 0x7fb8072e38b0>"
      ]
     },
     "execution_count": 52,
     "metadata": {},
     "output_type": "execute_result"
    },
    {
     "data": {
      "image/png": "[encoded data removed]",
      "text/plain": [
       "<Figure size 432x288 with 1 Axes>"
      ]
     },
     "metadata": {
      "needs_background": "light"
     },
     "output_type": "display_data"
    }
   ],
   "source": [
    "corrThr = np.linspace(0,200,20)\n",
    "eff = makeRatePlot(evaluator.reco_met,corrThr)\n",
    "eff_corr = makeRatePlot(evaluator.corr_met,corrThr)\n",
    "_ = plt.scatter(corrThr,eff,label='Baseline')\n",
    "_ = plt.scatter(corrThr,eff_corr,label='Corrected')\n",
    "\n",
    "#plt.semilogy()\n",
    "plt.legend()\n"
   ]
  },
  {
   "cell_type": "code",
   "execution_count": 56,
   "id": "9cd6d0f9",
   "metadata": {},
   "outputs": [],
   "source": [
    "mask_qcd = np.where(ids==1)\n",
    "mask_w = np.where(ids==0)\n",
    "evaluator_qcd = data_proc.MetResolutionEvaluator(graph_data.reco_met,graph_data.true_met,\n",
    "                                                 graph_data.process_ids,dnn_correction,mask=mask_qcd)\n",
    "evaluator_w = data_proc.MetResolutionEvaluator(graph_data.reco_met,graph_data.true_met,\n",
    "                                                 graph_data.process_ids,dnn_correction,mask=mask_w)"
   ]
  },
  {
   "cell_type": "code",
   "execution_count": 62,
   "id": "894d8583",
   "metadata": {},
   "outputs": [
    {
     "data": {
      "text/plain": [
       "<matplotlib.legend.Legend at 0x7fb807113520>"
      ]
     },
     "execution_count": 62,
     "metadata": {},
     "output_type": "execute_result"
    },
    {
     "data": {
      "image/png": "[encoded data removed]",
      "text/plain": [
       "<Figure size 432x288 with 1 Axes>"
      ]
     },
     "metadata": {
      "needs_background": "light"
     },
     "output_type": "display_data"
    }
   ],
   "source": [
    "corrThr = np.linspace(0,200,20)\n",
    "eff = makeRatePlot(evaluator_qcd.reco_met,corrThr)\n",
    "eff_corr = makeRatePlot(evaluator_qcd.corr_met,corrThr)\n",
    "_ = plt.scatter(corrThr,eff,label='Baseline')\n",
    "_ = plt.scatter(corrThr,eff_corr,label='Corrected')\n",
    "plt.title('QCD')\n",
    "#plt.semilogy()\n",
    "plt.legend()"
   ]
  },
  {
   "cell_type": "code",
   "execution_count": 59,
   "id": "7a4ecf9b",
   "metadata": {},
   "outputs": [
    {
     "data": {
      "text/plain": [
       "<matplotlib.legend.Legend at 0x7fb8073c1dc0>"
      ]
     },
     "execution_count": 59,
     "metadata": {},
     "output_type": "execute_result"
    },
    {
     "data": {
      "image/png": "[encoded data removed]",
      "text/plain": [
       "<Figure size 432x288 with 1 Axes>"
      ]
     },
     "metadata": {
      "needs_background": "light"
     },
     "output_type": "display_data"
    }
   ],
   "source": [
    "corrThr = np.linspace(0,200,20)\n",
    "eff = makeRatePlot(evaluator_w.reco_met,corrThr)\n",
    "eff_corr = makeRatePlot(evaluator_w.corr_met,corrThr)\n",
    "_ = plt.scatter(corrThr,eff,label='Baseline')\n",
    "_ = plt.scatter(corrThr,eff_corr,label='Corrected')\n",
    "plt.title('W')\n",
    "#plt.semilogy()\n",
    "plt.legend()"
   ]
  },
  {
   "cell_type": "code",
   "execution_count": 76,
   "id": "6e0ab7b6",
   "metadata": {},
   "outputs": [
    {
     "name": "stderr",
     "output_type": "stream",
     "text": [
      "/tmp/nchernya/ipykernel_17378/4197582734.py:8: DeprecationWarning: In future, it will be an error for 'np.bool_' scalars to be interpreted as an index\n",
      "  ret.Fill(corrArr[i]>corrThr,refArr[i])\n"
     ]
    },
    {
     "data": {
      "text/plain": [
       "Text(0.5, 1.0, 'W')"
      ]
     },
     "execution_count": 76,
     "metadata": {},
     "output_type": "execute_result"
    },
    {
     "data": {
      "image/png": "[encoded data removed]",
      "text/plain": [
       "<Figure size 432x288 with 1 Axes>"
      ]
     },
     "metadata": {
      "needs_background": "light"
     },
     "output_type": "display_data"
    }
   ],
   "source": [
    "thresh = 220\n",
    "eff_corr_bins,eff_corr_bin_err,eff_corr,eff_corr_err = calculateEff('corr',evaluator_w.true_met,evaluator_w.corr_met,thresh,420,nbins=40)\n",
    "eff_bins,eff_bin_err,eff,eff_err = calculateEff('reco',evaluator_w.true_met,evaluator_w.reco_met,thresh,420,nbins=40)\n",
    "\n",
    "\n",
    "_ = plt.errorbar(eff_corr_bins,eff_corr,yerr=eff_corr_err,xerr=eff_corr_bin_err, color='orange',marker='s',linestyle='',label='Corrected')\n",
    "_ = plt.errorbar(eff_bins,eff,yerr=eff_err,xerr=eff_bin_err, color='b',marker='o',linestyle='',label='Baseline')\n",
    "plt.legend()\n",
    "plt.title('W')\n"
   ]
  },
  {
   "cell_type": "code",
   "execution_count": 77,
   "id": "a87c1ace",
   "metadata": {},
   "outputs": [
    {
     "name": "stderr",
     "output_type": "stream",
     "text": [
      "/tmp/nchernya/ipykernel_17378/4197582734.py:8: DeprecationWarning: In future, it will be an error for 'np.bool_' scalars to be interpreted as an index\n",
      "  ret.Fill(corrArr[i]>corrThr,refArr[i])\n"
     ]
    },
    {
     "data": {
      "text/plain": [
       "<matplotlib.legend.Legend at 0x7fb806bc7c70>"
      ]
     },
     "execution_count": 77,
     "metadata": {},
     "output_type": "execute_result"
    },
    {
     "data": {
      "image/png": "[encoded data removed]",
      "text/plain": [
       "<Figure size 432x288 with 1 Axes>"
      ]
     },
     "metadata": {
      "needs_background": "light"
     },
     "output_type": "display_data"
    }
   ],
   "source": [
    "eff_corr_bins,eff_corr_bin_err,eff_corr,eff_corr_err = calculateEff('corr',evaluator_qcd.true_met,evaluator_qcd.corr_met,thresh,420,nbins=40)\n",
    "eff_bins,eff_bin_err,eff,eff_err = calculateEff('reco',evaluator_qcd.true_met,evaluator_qcd.reco_met,thresh,420,nbins=40)\n",
    "\n",
    "\n",
    "_ = plt.errorbar(eff_corr_bins,eff_corr,yerr=eff_corr_err,xerr=eff_corr_bin_err, color='orange',marker='s',linestyle='',label='Corrected')\n",
    "_ = plt.errorbar(eff_bins,eff,yerr=eff_err,xerr=eff_bin_err, color='b',marker='o',linestyle='',label='Baseline')\n",
    "plt.title('QCD')\n",
    "plt.legend()"
   ]
  },
  {
   "cell_type": "code",
   "execution_count": null,
   "id": "1e870e57",
   "metadata": {},
   "outputs": [],
   "source": []
  },
  {
   "cell_type": "code",
   "execution_count": null,
   "id": "b6164c6b",
   "metadata": {},
   "outputs": [],
   "source": []
  }
 ],
 "metadata": {
  "kernelspec": {
   "display_name": "Python 3 (ipykernel)",
   "language": "python",
   "name": "python3"
  },
  "language_info": {
   "codemirror_mode": {
    "name": "ipython",
    "version": 3
   },
   "file_extension": ".py",
   "mimetype": "text/x-python",
   "name": "python",
   "nbconvert_exporter": "python",
   "pygments_lexer": "ipython3",
   "version": "3.9.12"
  }
 },
 "nbformat": 4,
 "nbformat_minor": 5
}
